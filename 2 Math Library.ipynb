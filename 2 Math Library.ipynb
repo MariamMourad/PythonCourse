{
 "cells": [
  {
   "cell_type": "code",
   "execution_count": 3,
   "metadata": {},
   "outputs": [
    {
     "name": "stdout",
     "output_type": "stream",
     "text": [
      "Factorial 9 is 362880\n",
      "Exponential to power 7 is 1096.6331584284585\n",
      "Exponential to power 1 is 2.718281828459045 \n",
      "\n",
      "The natural logarithm log to the base e or ln for 7 is 1.9459101490553132\n",
      "Logarithm to the base 5 for 25 is 2.0\n",
      "Logarithm to the base 10 for 1000 is 3.0\n",
      "The square root of 81 is 9.0\n"
     ]
    }
   ],
   "source": [
    "import math as m #or from math import *\n",
    "print('Factorial 9 is',m.factorial(9))\n",
    "print('Exponential to power 7 is', m.exp(7))\n",
    "print('Exponential to power 1 is', m.e,'\\n')\n",
    "\n",
    "print('The natural logarithm log to the base e or ln for 7 is',m.log(7))\n",
    "print('Logarithm to the base 5 for 25 is',m.log(25,5))\n",
    "print('Logarithm to the base 10 for 1000 is',m.log10(1000))\n",
    "print('The square root of 81 is', m.sqrt(81))"
   ]
  },
  {
   "cell_type": "code",
   "execution_count": 32,
   "metadata": {},
   "outputs": [
    {
     "name": "stdout",
     "output_type": "stream",
     "text": [
      "1.0\n",
      "-1.0\n",
      "0.9999999999999999\n",
      "0.9999999999999999\n"
     ]
    }
   ],
   "source": [
    "''''Here are Trigonometric functions.\n",
    "Since python's default mode of angels is radians the angels in degrees should be transformed.'''\n",
    "print(m.sin(m.radians(90)))\n",
    "print(m.cos(m.radians(180)))\n",
    "print(m.tan(m.radians(m.degrees(m.pi)/4)))\n",
    "print(m.tan(m.radians(45)))"
   ]
  },
  {
   "cell_type": "code",
   "execution_count": 34,
   "metadata": {},
   "outputs": [
    {
     "name": "stdout",
     "output_type": "stream",
     "text": [
      "0.6435011087932844\n",
      "0.9272952180016123\n",
      "0.5404195002705842 \n",
      "\n",
      "3.6268604078470186\n",
      "3.7621956910836314\n",
      "0.9640275800758169 \n",
      "\n",
      "2.3124383412727525\n",
      "2.2924316695611777\n",
      "0.5493061443340549\n"
     ]
    }
   ],
   "source": [
    "#The trigonometric function's inverse.\n",
    "print(m.asin(0.6))\n",
    "print(m.acos(0.6))\n",
    "print(m.atan(0.6), '\\n')\n",
    "#The Hyperbola functions.\n",
    "print(m.sinh(2))\n",
    "print(m.cosh(2))\n",
    "print(m.tanh(2),'\\n')\n",
    "#The Hyperbola function's inverse.\n",
    "print(m.asinh(5))\n",
    "print(m.acosh(5))\n",
    "print(m.atanh(0.5))"
   ]
  },
  {
   "cell_type": "code",
   "execution_count": 36,
   "metadata": {},
   "outputs": [
    {
     "name": "stdout",
     "output_type": "stream",
     "text": [
      "value of positive infinity = inf\n",
      "value of negative infinity = -inf\n",
      "the tue constant = 6.283185307179586 \n",
      "\n",
      "round the 5.2 Up to the nearst integer = 6\n",
      "round the 9.9 Down to the nearst integer = 9\n",
      "the error function of 5 = 0.9999999999984626\n",
      "the gamma function of 5 = 24.0 \n",
      "\n",
      "-7.0\n"
     ]
    }
   ],
   "source": [
    "print('value of positive infinity =',m.inf)\n",
    "print('value of negative infinity =',-m.inf)\n",
    "print('the tue constant =',m.tau,'\\n')\n",
    "print('round the 5.2 Up to the nearst integer =',m.ceil(5.5))\n",
    "print('round the 9.9 Down to the nearst integer =',m.floor(9.9))\n",
    "print('the error function of 5 =',m.erf(5))\n",
    "print('the gamma function of 5 =',m.gamma(5),'\\n') #which is equal to m.factorial(4)\n",
    "\n",
    "#copy the sign of the number -3 to the number +7\n",
    "print(m.copysign(7,-3))"
   ]
  },
  {
   "cell_type": "code",
   "execution_count": null,
   "metadata": {},
   "outputs": [],
   "source": []
  }
 ],
 "metadata": {
  "kernelspec": {
   "display_name": "Python 3",
   "language": "python",
   "name": "python3"
  },
  "language_info": {
   "codemirror_mode": {
    "name": "ipython",
    "version": 3
   },
   "file_extension": ".py",
   "mimetype": "text/x-python",
   "name": "python",
   "nbconvert_exporter": "python",
   "pygments_lexer": "ipython3",
   "version": "3.8.3"
  }
 },
 "nbformat": 4,
 "nbformat_minor": 4
}
