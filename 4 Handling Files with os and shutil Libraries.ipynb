{
 "cells": [
  {
   "cell_type": "code",
   "execution_count": 1,
   "metadata": {},
   "outputs": [],
   "source": [
    "#Create a text file & write in it\n",
    "text_file=open('D://text1.txt','a')\n",
    "text_file.write('Hello,\\ngood morning')\n",
    "text_file.close()"
   ]
  },
  {
   "cell_type": "code",
   "execution_count": 2,
   "metadata": {},
   "outputs": [
    {
     "name": "stdout",
     "output_type": "stream",
     "text": [
      "Hello,\n",
      "\n",
      "Good evening,\n",
      "\n",
      "I hope you have a great day.\n"
     ]
    }
   ],
   "source": [
    "#remove 'good morning' and write 'good evening' instead\n",
    "text_file=open('D://text1.txt','w')\n",
    "text_file.write('Hello,\\nGood evening,')\n",
    "text_file.close()\n",
    "\n",
    "#add more text to the same file without removing anything\n",
    "text_file=open('D://text1.txt','a')\n",
    "text_file.write('\\nI hope you have a great day.')\n",
    "text_file.close()\n",
    "\n",
    "#read the text file\n",
    "text_file=open('D://text1.txt','r')\n",
    "for text in text_file:\n",
    "    print(text)\n",
    "text_file.close()"
   ]
  },
  {
   "cell_type": "code",
   "execution_count": 3,
   "metadata": {},
   "outputs": [
    {
     "name": "stdout",
     "output_type": "stream",
     "text": [
      "first cell in the first column\n"
     ]
    }
   ],
   "source": [
    "#Create a csv file & write in it and the same way can be used for xls files\n",
    "csv_file=open('D://table1.csv','w')\n",
    "csv_file.write('first cell in the first column')\n",
    "csv_file.close()\n",
    "\n",
    "#read the csv file and the same way can be used for xls files\n",
    "csv_file=open('D://table1.csv','r')\n",
    "for the_first_cell in csv_file:\n",
    "    print(the_first_cell)\n",
    "csv_file.close()"
   ]
  },
  {
   "cell_type": "code",
   "execution_count": 4,
   "metadata": {},
   "outputs": [],
   "source": [
    "#to creating folders\n",
    "import os\n",
    "os.makedirs('C://new_folder1', exist_ok=False) #exist_ok=False becuase this part of the code I will get error if I have folder with the same name\n",
    "os.makedirs('C://new_folder1', exist_ok=True) #remove any folder with the same name & creat a new one"
   ]
  },
  {
   "cell_type": "code",
   "execution_count": 5,
   "metadata": {},
   "outputs": [
    {
     "name": "stdout",
     "output_type": "stream",
     "text": [
      "False\n",
      "True\n"
     ]
    }
   ],
   "source": [
    "#check a file or a folder existence\n",
    "print(os.path.exists('D://00'))\n",
    "print(os.path.exists('D://table1.csv'))"
   ]
  },
  {
   "cell_type": "code",
   "execution_count": 6,
   "metadata": {},
   "outputs": [
    {
     "data": {
      "text/plain": [
       "'C://folder1'"
      ]
     },
     "execution_count": 6,
     "metadata": {},
     "output_type": "execute_result"
    }
   ],
   "source": [
    "#copy files and save the copy in a different location\n",
    "import shutil as sh\n",
    "sh.copyfile('D://Data Analysis//SUBQUERY.sql','D://folder1//copy.sql')\n",
    "#copy folders and save the copy in a different location\n",
    "sh.copytree('D://folder1','C://folder1')"
   ]
  },
  {
   "cell_type": "code",
   "execution_count": 7,
   "metadata": {},
   "outputs": [
    {
     "data": {
      "text/plain": [
       "'D://new_folder1'"
      ]
     },
     "execution_count": 7,
     "metadata": {},
     "output_type": "execute_result"
    }
   ],
   "source": [
    "#move a file or a folder from one location to the other\n",
    "sh.move('C://new_folder1','D://new_folder1')"
   ]
  }
 ],
 "metadata": {
  "kernelspec": {
   "display_name": "Python 3",
   "language": "python",
   "name": "python3"
  },
  "language_info": {
   "codemirror_mode": {
    "name": "ipython",
    "version": 3
   },
   "file_extension": ".py",
   "mimetype": "text/x-python",
   "name": "python",
   "nbconvert_exporter": "python",
   "pygments_lexer": "ipython3",
   "version": "3.8.3"
  }
 },
 "nbformat": 4,
 "nbformat_minor": 4
}
