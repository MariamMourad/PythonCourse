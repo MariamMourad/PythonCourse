{
 "cells": [
  {
   "cell_type": "code",
   "execution_count": 1,
   "metadata": {},
   "outputs": [
    {
     "name": "stdout",
     "output_type": "stream",
     "text": [
      "p\n",
      "e\n",
      "python\n",
      "I like\n",
      "learning\n",
      "I like python and machine learning\n",
      "gninrael enihcam dna nohtyp ekil I\n",
      "mcielann\n"
     ]
    }
   ],
   "source": [
    "#Index\n",
    "a = 'I like python and machine learning'\n",
    "print(a[7])\n",
    "print(a[-7])\n",
    "print(a[7:13])\n",
    "print(a[:6])\n",
    "print(a[-8:34])\n",
    "print(a[:])\n",
    "print(a[::-1])\n",
    "print(a[18:-1:2])"
   ]
  },
  {
   "cell_type": "code",
   "execution_count": 2,
   "metadata": {},
   "outputs": [
    {
     "name": "stdout",
     "output_type": "stream",
     "text": [
      "_______________\n",
      "['H', 'e', 'l', 'l', 'o', ' ', 'w', 'o', 'r', 'l', 'd', '!']\n",
      "[' ', '!', 'H', 'd', 'e', 'l', 'l', 'l', 'o', 'o', 'r', 'w']\n"
     ]
    },
    {
     "data": {
      "text/plain": [
       "{' ', '!', 'H', 'd', 'e', 'l', 'o', 'r', 'w'}"
      ]
     },
     "execution_count": 2,
     "metadata": {},
     "output_type": "execute_result"
    }
   ],
   "source": [
    "#repetition\n",
    "print('_'*15)\n",
    "b = 'Hello world!'\n",
    "#turning string into list\n",
    "print(list(b))\n",
    "#turning string into sorted list\n",
    "print(sorted(list(b)))\n",
    "#turning string into set with no repeating characters\n",
    "set(b)"
   ]
  },
  {
   "cell_type": "code",
   "execution_count": 3,
   "metadata": {},
   "outputs": [
    {
     "name": "stdout",
     "output_type": "stream",
     "text": [
      "['Hello', 'world!']\n",
      "['Hell', ' w', 'rld!']\n",
      "Good\n",
      "morning\n",
      "['Good', 'morning'] \n",
      "\n",
      "('He visits: Canada ', '-', ' China - Russia - France')\n",
      "('He visits: Canada - China - Russia ', '-', ' France') \n",
      "\n",
      "one-two-three\n",
      "H e l l o\n",
      "15 15 16 9 4 \n",
      "\n",
      "18\n",
      "18\n",
      "35\n"
     ]
    }
   ],
   "source": [
    "#splitting\n",
    "c = 'Good\\nmorning'\n",
    "print(b.split())\n",
    "print(b.split('o'))\n",
    "print(c)\n",
    "print(c.splitlines(),'\\n')\n",
    "\n",
    "#partitioning\n",
    "d = 'He visits: Canada - China - Russia - France'\n",
    "print(d.partition('-'))\n",
    "print(d.rpartition('-'),'\\n')\n",
    "\n",
    "#joining\n",
    "print('-'.join(('one', 'two', 'three')))\n",
    "print(' '.join('Hello'))\n",
    "import numpy as np\n",
    "print(' '.join([str(i) for i in np.random.randint(20, size=5)]),'\\n')\n",
    "\n",
    "#finding the index\n",
    "print(d.index('-'))\n",
    "print(d.find('-'))\n",
    "print(d.rfind('-'))"
   ]
  },
  {
   "cell_type": "code",
   "execution_count": 4,
   "metadata": {},
   "outputs": [
    {
     "name": "stdout",
     "output_type": "stream",
     "text": [
      "Hello Egypt!\n",
      "There is 2 of o letter in Hello world!\n",
      "There is 12 characters in Hello Egypt!\n",
      "Programming\n",
      "I Like Python And Machine Learning\n",
      "I LIKE PYTHON AND MACHINE LEARNING\n",
      "i like python and machine learning\n",
      "i LIKE PYTHON AND MACHINE LEARNING\n",
      "                                 I like python and machine learning                                 \n",
      "                                 I like python and machine learning                                 \n"
     ]
    }
   ],
   "source": [
    "#replacing\n",
    "e = b.replace('world','Egypt')\n",
    "print(e)\n",
    "#counting\n",
    "print('There is',b.count('o'),'of o letter in',b)\n",
    "print('There is',len(e),'characters in',e)\n",
    "#formates\n",
    "print('programming'.capitalize())\n",
    "print(a.title())\n",
    "print(a.upper())\n",
    "print(a.lower())\n",
    "print(a.swapcase())\n",
    "#centerlize\n",
    "print(a.center(100))\n",
    "print('{:^100}'.format(a))"
   ]
  },
  {
   "cell_type": "code",
   "execution_count": 5,
   "metadata": {},
   "outputs": [
    {
     "name": "stdout",
     "output_type": "stream",
     "text": [
      "Are all characters in string1 alphabetic characters? True\n",
      "Are all characters in string2 alphabetic characters? False\n",
      "Are all characters in string3 digits? True\n",
      "Are all characters in string1 capital characters? False\n",
      "Are all characters in string2 lower characters? True\n",
      "Is the first character in string1 a capital character? True\n",
      "Does string1 starts with r? False\n",
      "Does string1 ends with n? True\n"
     ]
    }
   ],
   "source": [
    "string1 = 'Python'\n",
    "string2 = 'p y t h o n'\n",
    "string3 = '123'\n",
    "print('Are all characters in string1 alphabetic characters?',string1.isalpha())\n",
    "print('Are all characters in string2 alphabetic characters?',string2.isalpha())\n",
    "print('Are all characters in string3 digits?',string3.isdigit())\n",
    "print('Are all characters in string1 capital characters?',string1.isupper())\n",
    "print('Are all characters in string2 lower characters?',string2.islower())\n",
    "print('Is the first character in string1 a capital character?',string1.istitle())\n",
    "print('Does string1 starts with r?',string1.startswith('r'))\n",
    "print('Does string1 ends with n?',string1.endswith('n'))"
   ]
  },
  {
   "cell_type": "code",
   "execution_count": 6,
   "metadata": {},
   "outputs": [
    {
     "name": "stdout",
     "output_type": "stream",
     "text": [
      "Hello world!                                      \n",
      "                                      Hello world!\n",
      "Hello world!**************************************\n",
      "00000000000000000000000000000000000000Hello world!\n",
      "Hello world!\n",
      "Hello world!\n",
      "Hi\n",
      "Hello world!\n"
     ]
    }
   ],
   "source": [
    "#adding spaces\n",
    "f = b.ljust(50)\n",
    "print(f)\n",
    "g = b.rjust(50)\n",
    "print(g)\n",
    "#adding characters\n",
    "h = b.ljust(50,'*')\n",
    "print(h)\n",
    "#adding zero\n",
    "print(b.zfill(50))\n",
    "#stripping\n",
    "print(f.rstrip())\n",
    "print(g.lstrip())\n",
    "print('       Hi    '.strip())\n",
    "print(h.rstrip('*'))"
   ]
  },
  {
   "cell_type": "code",
   "execution_count": 9,
   "metadata": {},
   "outputs": [
    {
     "name": "stdout",
     "output_type": "stream",
     "text": [
      "\tHi\n",
      "Message\n",
      "on multiple\n",
      "lines\n",
      "App \n",
      "\n",
      "doesn't\n",
      "doesn't\n",
      "\"Yes,\" he said.\n",
      "\"Yes,\" he said.\n",
      "\"Isn't,\" she said. \n",
      "\n",
      "Red and Blue\n",
      "Blue and Blue\n",
      "First: A. Last: Z.\n"
     ]
    },
    {
     "ename": "ValueError",
     "evalue": "Unknown format code 'f' for object of type 'str'",
     "output_type": "error",
     "traceback": [
      "\u001b[1;31m---------------------------------------------------------------------------\u001b[0m",
      "\u001b[1;31mValueError\u001b[0m                                Traceback (most recent call last)",
      "\u001b[1;32m<ipython-input-9-9ff856f1f63b>\u001b[0m in \u001b[0;36m<module>\u001b[1;34m\u001b[0m\n\u001b[0;32m     17\u001b[0m \u001b[0mprint\u001b[0m\u001b[1;33m(\u001b[0m\u001b[1;34m'{1} and {1}'\u001b[0m\u001b[1;33m.\u001b[0m\u001b[0mformat\u001b[0m\u001b[1;33m(\u001b[0m\u001b[1;34m'Red'\u001b[0m\u001b[1;33m,\u001b[0m \u001b[1;34m'Blue'\u001b[0m\u001b[1;33m)\u001b[0m\u001b[1;33m)\u001b[0m\u001b[1;33m\u001b[0m\u001b[1;33m\u001b[0m\u001b[0m\n\u001b[0;32m     18\u001b[0m \u001b[0mprint\u001b[0m\u001b[1;33m(\u001b[0m\u001b[1;34m\"First: {first}. Last: {last}.\"\u001b[0m\u001b[1;33m.\u001b[0m\u001b[0mformat\u001b[0m\u001b[1;33m(\u001b[0m\u001b[0mlast\u001b[0m\u001b[1;33m=\u001b[0m\u001b[1;34m'Z'\u001b[0m\u001b[1;33m,\u001b[0m \u001b[0mfirst\u001b[0m\u001b[1;33m=\u001b[0m\u001b[1;34m'A'\u001b[0m\u001b[1;33m)\u001b[0m\u001b[1;33m)\u001b[0m\u001b[1;33m\u001b[0m\u001b[1;33m\u001b[0m\u001b[0m\n\u001b[1;32m---> 19\u001b[1;33m \u001b[0mprint\u001b[0m\u001b[1;33m(\u001b[0m\u001b[1;34m'print the number 90.12345 with only 3 digits after decimal = {0:.3f}\"'\u001b[0m\u001b[1;33m.\u001b[0m\u001b[0mformat\u001b[0m\u001b[1;33m(\u001b[0m\u001b[1;34m'90.12345'\u001b[0m\u001b[1;33m)\u001b[0m\u001b[1;33m)\u001b[0m\u001b[1;33m\u001b[0m\u001b[1;33m\u001b[0m\u001b[0m\n\u001b[0m",
      "\u001b[1;31mValueError\u001b[0m: Unknown format code 'f' for object of type 'str'"
     ]
    }
   ],
   "source": [
    "#printing\n",
    "print('\\tHi')\n",
    "print('''Message\n",
    "on multiple\n",
    "lines''')\n",
    "A, p = 'A' , 'pp'\n",
    "print(A,end='')\n",
    "print(p,'\\n')\n",
    "\n",
    "print('doesn\\'t')\n",
    "print(\"doesn't\")\n",
    "print('\"Yes,\" he said.')\n",
    "print(\"\\\"Yes,\\\" he said.\")\n",
    "print('\"Isn\\'t,\" she said.','\\n')\n",
    "\n",
    "print('{0} and {1}'.format('Red', 'Blue'))\n",
    "print('{1} and {1}'.format('Red', 'Blue'))\n",
    "print(\"First: {first}. Last: {last}.\".format(last='Z', first='A'))\n",
    "print('print the number 90.12345 with only 3 digits after decimal = {0:.3f}\"'.format('90.12345'))"
   ]
  },
  {
   "cell_type": "markdown",
   "metadata": {},
   "source": [
    "### Regular Expression Library"
   ]
  },
  {
   "cell_type": "code",
   "execution_count": 8,
   "metadata": {},
   "outputs": [
    {
     "name": "stdout",
     "output_type": "stream",
     "text": [
      "The emails are ['CustomerCare1@company.org', 'CustomerCare2@gmail.com'] \n",
      "\n",
      "The emails components are [('CustomerCare1', 'company', 'org'), ('CustomerCare2', 'gmail', 'com')] \n",
      "\n",
      "The emails components as dictionary: {'component1': 'CustomerCare1', 'component2': 'company', 'component3': 'org'}\n"
     ]
    }
   ],
   "source": [
    "import re\n",
    "text = \"To email the company, try CustomerCare1@company.org or CustomerCare2@gmail.com or you can call us\"\n",
    "The_email = re.compile('\\w+@\\w+\\.[a-z]{3}')\n",
    "print('The emails are',The_email.findall(text),'\\n')\n",
    "The_email_component = re.compile(r'([\\w.]+)@(\\w+)\\.([a-z]{3})')\n",
    "print('The emails components are',The_email_component.findall(text),'\\n')\n",
    "Detailed_components = re.compile(r'(?P<component1>[\\w.]+)@(?P<component2>\\w+).(?P<component3>[a-z]{3})')\n",
    "match = Detailed_components.match('CustomerCare1@company.org')\n",
    "print('The emails components as dictionary:',match.groupdict())"
   ]
  },
  {
   "cell_type": "code",
   "execution_count": null,
   "metadata": {},
   "outputs": [],
   "source": []
  }
 ],
 "metadata": {
  "kernelspec": {
   "display_name": "Python 3",
   "language": "python",
   "name": "python3"
  },
  "language_info": {
   "codemirror_mode": {
    "name": "ipython",
    "version": 3
   },
   "file_extension": ".py",
   "mimetype": "text/x-python",
   "name": "python",
   "nbconvert_exporter": "python",
   "pygments_lexer": "ipython3",
   "version": "3.8.3"
  }
 },
 "nbformat": 4,
 "nbformat_minor": 4
}
