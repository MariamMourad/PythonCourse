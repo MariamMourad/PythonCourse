{
 "cells": [
  {
   "cell_type": "markdown",
   "metadata": {},
   "source": [
    "## Variables"
   ]
  },
  {
   "cell_type": "code",
   "execution_count": 25,
   "metadata": {},
   "outputs": [
    {
     "name": "stdout",
     "output_type": "stream",
     "text": [
      "a = 5, b = Ahmed, c = 13, d = m\n",
      "type b is  <class 'str'>\n",
      "turning a to float a =  5.0\n"
     ]
    }
   ],
   "source": [
    "a,b,c,d=5,'Ahmed',13,\"m\"\n",
    "print('a = %d, b = %s, c = %d, d = %s'%(a,b,c,d))\n",
    "print('type b is ',type(b))\n",
    "\n",
    "print('turning a to float a = ',float(a))"
   ]
  },
  {
   "cell_type": "code",
   "execution_count": 26,
   "metadata": {},
   "outputs": [
    {
     "name": "stdout",
     "output_type": "stream",
     "text": [
      "type g is  <class 'complex'>\n",
      "turning g into string e =  (5+7j)\n",
      "type e is  <class 'str'>\n"
     ]
    }
   ],
   "source": [
    "g=5+7j\n",
    "print('type g is ',type(g))\n",
    "\n",
    "e=str(g)\n",
    "print('turning g into string e = ',e)\n",
    "print('type e is ',type(e))"
   ]
  },
  {
   "cell_type": "code",
   "execution_count": 27,
   "metadata": {},
   "outputs": [
    {
     "name": "stdout",
     "output_type": "stream",
     "text": [
      "k =  (5+13j)\n",
      "the imaginary part of k =  13.0\n",
      "the real part of k =  5.0\n"
     ]
    }
   ],
   "source": [
    "k=complex(a,c)\n",
    "print('k = ',k)\n",
    "print('the imaginary part of k = ',k.imag)\n",
    "print('the real part of k = ',k.real)"
   ]
  },
  {
   "cell_type": "code",
   "execution_count": 30,
   "metadata": {},
   "outputs": [
    {
     "name": "stdout",
     "output_type": "stream",
     "text": [
      "t =  0b110010\n",
      "type t is  <class 'str'> \n",
      "\n",
      "m =  False\n"
     ]
    }
   ],
   "source": [
    "t=bin(50)\n",
    "print('t = ',t)\n",
    "print('type t is ',type(t), '\\n')\n",
    "\n",
    "m=bool('')\n",
    "print('m = ',m)"
   ]
  },
  {
   "cell_type": "markdown",
   "metadata": {},
   "source": [
    "## Mathematical Operations"
   ]
  },
  {
   "cell_type": "code",
   "execution_count": 34,
   "metadata": {},
   "outputs": [
    {
     "name": "stdout",
     "output_type": "stream",
     "text": [
      "the whole number out of 14/3 is 4\n",
      "the remainder out of 14/3 is 2\n",
      "(whole, remainder) (4, 2) \n",
      "\n",
      "5 and 13 aren't equal True\n",
      "is 13 greater than 5? True\n",
      "is 13 between 9 and 17? True \n",
      "\n",
      "d =-4 and the absolute value of d is 4\n",
      "the round of 9.7 is 10\n",
      "the integer number in 9.7 is 9\n",
      "5 power 3 = 125\n"
     ]
    }
   ],
   "source": [
    "print('the whole number out of 14/3 is',14//3)\n",
    "print('the remainder out of 14/3 is',14%3)\n",
    "print('(whole, remainder)',divmod(14,3),'\\n')\n",
    "\n",
    "print(\"5 and 13 aren't equal\",5!=13)\n",
    "print('is 13 greater than 5?',13>=5)\n",
    "print('is 13 between 9 and 17?',17>13>9,'\\n')\n",
    "\n",
    "q=-4\n",
    "print('d =-4 and the absolute value of d is', abs(q))\n",
    "m=9.7\n",
    "print('the round of 9.7 is',round(m))\n",
    "print('the integer number in 9.7 is',int(m))\n",
    "print('5 power 3 =',pow(5,3))"
   ]
  },
  {
   "cell_type": "code",
   "execution_count": null,
   "metadata": {},
   "outputs": [],
   "source": []
  }
 ],
 "metadata": {
  "kernelspec": {
   "display_name": "Python 3",
   "language": "python",
   "name": "python3"
  },
  "language_info": {
   "codemirror_mode": {
    "name": "ipython",
    "version": 3
   },
   "file_extension": ".py",
   "mimetype": "text/x-python",
   "name": "python",
   "nbconvert_exporter": "python",
   "pygments_lexer": "ipython3",
   "version": "3.8.3"
  }
 },
 "nbformat": 4,
 "nbformat_minor": 4
}
